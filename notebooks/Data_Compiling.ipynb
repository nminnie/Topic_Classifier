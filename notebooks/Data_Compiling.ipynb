{
  "nbformat": 4,
  "nbformat_minor": 0,
  "metadata": {
    "colab": {
      "name": "Data Compiling.ipynb",
      "provenance": [],
      "collapsed_sections": []
    },
    "kernelspec": {
      "name": "python3",
      "display_name": "Python 3"
    },
    "accelerator": "GPU"
  },
  "cells": [
    {
      "cell_type": "markdown",
      "metadata": {
        "id": "1L1PnvhGbyEw",
        "colab_type": "text"
      },
      "source": [
        "## Setting up"
      ]
    },
    {
      "cell_type": "code",
      "metadata": {
        "id": "N_KLYZIq4utp",
        "colab_type": "code",
        "outputId": "be6e8f5c-0ba2-4627-e26b-d9f2f30e59c9",
        "colab": {
          "base_uri": "https://localhost:8080/",
          "height": 34
        }
      },
      "source": [
        "from google.colab import drive\n",
        "drive.mount('/content/drive')"
      ],
      "execution_count": 0,
      "outputs": [
        {
          "output_type": "stream",
          "text": [
            "Drive already mounted at /content/drive; to attempt to forcibly remount, call drive.mount(\"/content/drive\", force_remount=True).\n"
          ],
          "name": "stdout"
        }
      ]
    },
    {
      "cell_type": "code",
      "metadata": {
        "id": "52wez7yM9aGZ",
        "colab_type": "code",
        "outputId": "7999aee9-2472-458b-ed5f-5a56233964d6",
        "colab": {
          "base_uri": "https://localhost:8080/",
          "height": 34
        }
      },
      "source": [
        "cd /content/drive/My\\ Drive/Colab\\ Notebooks/data"
      ],
      "execution_count": 0,
      "outputs": [
        {
          "output_type": "stream",
          "text": [
            "/content/drive/My Drive/Colab Notebooks/data\n"
          ],
          "name": "stdout"
        }
      ]
    },
    {
      "cell_type": "code",
      "metadata": {
        "id": "hvg8EGKN99T2",
        "colab_type": "code",
        "colab": {}
      },
      "source": [
        "import json\n",
        "import re\n",
        "from random import randrange, shuffle"
      ],
      "execution_count": 0,
      "outputs": []
    },
    {
      "cell_type": "markdown",
      "metadata": {
        "id": "hwz8CCzYb102",
        "colab_type": "text"
      },
      "source": [
        "## Data Loading"
      ]
    },
    {
      "cell_type": "code",
      "metadata": {
        "id": "FjvucBRDIYBW",
        "colab_type": "code",
        "colab": {}
      },
      "source": [
        "def review_obj_to_dict(review_obj):\n",
        "  review_obj = review_obj.strip()\n",
        "  return json.loads(review_obj)"
      ],
      "execution_count": 0,
      "outputs": []
    },
    {
      "cell_type": "markdown",
      "metadata": {
        "id": "11QxSIR1b5XY",
        "colab_type": "text"
      },
      "source": [
        "## Data Cleaning"
      ]
    },
    {
      "cell_type": "code",
      "metadata": {
        "id": "74pSlFPHxBxw",
        "colab_type": "code",
        "colab": {}
      },
      "source": [
        "def clean_review_text(text):\n",
        "  text = re.sub('<.*?>|&([a-z0-9]+|#[0-9]{1,6}|#x[0-9a-f]{1,6});', ' ', text) # remove HTML tags\n",
        "  text = re.sub(r'http\\S+', '', text) # remove hyperlinks\n",
        "  text = re.sub('[\\t\\n]+', ' ', text) # remove tabs, newlines\n",
        "  text = re.sub(' +', ' ', text) # remove multiple spaces\n",
        "  text = text.strip() # strip special characters at the ends\n",
        "  return text"
      ],
      "execution_count": 0,
      "outputs": []
    },
    {
      "cell_type": "code",
      "metadata": {
        "id": "GI9Lr1OemFCZ",
        "colab_type": "code",
        "colab": {}
      },
      "source": [
        "def load_review_text(filename):\n",
        "    if filename == 'books.json':\n",
        "        key = 'review_text'\n",
        "    else:\n",
        "        key = 'reviewText'\n",
        "    reviews = []\n",
        "    with open(filename, 'r') as f:\n",
        "        review_data = f.readlines()\n",
        "        for line in review_data:\n",
        "            review_dict = review_obj_to_dict(line)\n",
        "            if key in review_dict:\n",
        "                review_text = clean_review_text(review_dict[key])\n",
        "                reviews.append(review_text)\n",
        "    return reviews"
      ],
      "execution_count": 0,
      "outputs": []
    },
    {
      "cell_type": "code",
      "metadata": {
        "id": "B7NELTaTp-AO",
        "colab_type": "code",
        "colab": {}
      },
      "source": [
        "all_food_reviews = load_review_text('food.json')\n",
        "all_music_reviews = load_review_text('music.json')\n",
        "all_movies_reviews = load_review_text('movies.json')\n",
        "all_instruments_reviews = load_review_text('instruments.json')\n",
        "all_toys_reviews = load_review_text('toys.json')\n",
        "all_clothing_reviews = load_review_text('clothing.json')\n",
        "all_sports_reviews = load_review_text('sports.json')\n",
        "all_books_reviews = load_review_text('books.json')"
      ],
      "execution_count": 0,
      "outputs": []
    },
    {
      "cell_type": "code",
      "metadata": {
        "id": "WEnqySCSsX6J",
        "colab_type": "code",
        "outputId": "d785754b-c4ba-4859-a79a-0225256a8179",
        "colab": {
          "base_uri": "https://localhost:8080/",
          "height": 34
        }
      },
      "source": [
        "[len(reviews) for reviews in (all_food_reviews, all_music_reviews, all_movies_reviews, all_instruments_reviews, all_toys_reviews, all_clothing_reviews, all_sports_reviews, all_books_reviews)]"
      ],
      "execution_count": 0,
      "outputs": [
        {
          "output_type": "execute_result",
          "data": {
            "text/plain": [
              "[1143470, 169623, 1697533, 231344, 1827796, 278677, 296337, 1378033]"
            ]
          },
          "metadata": {
            "tags": []
          },
          "execution_count": 19
        }
      ]
    },
    {
      "cell_type": "markdown",
      "metadata": {
        "id": "49EzKO-7cAyW",
        "colab_type": "text"
      },
      "source": [
        "The datasets vary in size, so we will extract 10,000 from each. Instead of just getting the first 10,000 or the last 10,000 entries, we will randomly select 10,000 entries to generalize the dataset."
      ]
    },
    {
      "cell_type": "code",
      "metadata": {
        "id": "3sdjsLyQAuXE",
        "colab_type": "code",
        "colab": {}
      },
      "source": [
        "def get_random_indices(max_range, size=10000):\n",
        "    assert max_range >= size\n",
        "    number_set = set()\n",
        "    while len(number_set) < size:\n",
        "        random_int = randrange(max_range)\n",
        "        number_set.add(random_int)\n",
        "    return number_set"
      ],
      "execution_count": 0,
      "outputs": []
    },
    {
      "cell_type": "code",
      "metadata": {
        "id": "-fyXLxdP9kpf",
        "colab_type": "code",
        "colab": {}
      },
      "source": [
        "def get_reviews_subset(reviews_list):\n",
        "    indices = get_random_indices(len(reviews_list))\n",
        "    subset = [reviews_list[i] for i in indices]\n",
        "    return subset"
      ],
      "execution_count": 0,
      "outputs": []
    },
    {
      "cell_type": "code",
      "metadata": {
        "id": "sa1oPm8KaZnt",
        "colab_type": "code",
        "colab": {}
      },
      "source": [
        "food_reviews = get_reviews_subset(all_food_reviews)\n",
        "music_reviews = get_reviews_subset(all_music_reviews)\n",
        "movies_reviews = get_reviews_subset(all_movies_reviews)\n",
        "instruments_reviews = get_reviews_subset(all_instruments_reviews)\n",
        "toys_reviews = get_reviews_subset(all_toys_reviews)\n",
        "clothing_reviews = get_reviews_subset(all_clothing_reviews)\n",
        "sports_reviews = get_reviews_subset(all_sports_reviews)\n",
        "books_reviews = get_reviews_subset(all_books_reviews)"
      ],
      "execution_count": 0,
      "outputs": []
    },
    {
      "cell_type": "code",
      "metadata": {
        "id": "Q4y2fIwTnN27",
        "colab_type": "code",
        "outputId": "c59f7de4-bd3d-4acd-f462-05e410d0a357",
        "colab": {
          "base_uri": "https://localhost:8080/",
          "height": 34
        }
      },
      "source": [
        "[len(reviews) for reviews in (food_reviews, music_reviews, movies_reviews, instruments_reviews, toys_reviews, clothing_reviews, sports_reviews, books_reviews)]"
      ],
      "execution_count": 0,
      "outputs": [
        {
          "output_type": "execute_result",
          "data": {
            "text/plain": [
              "[10000, 10000, 10000, 10000, 10000, 10000, 10000, 10000]"
            ]
          },
          "metadata": {
            "tags": []
          },
          "execution_count": 23
        }
      ]
    },
    {
      "cell_type": "markdown",
      "metadata": {
        "id": "qoND8ntmcZEs",
        "colab_type": "text"
      },
      "source": [
        "Compile all subsets into one big dataset."
      ]
    },
    {
      "cell_type": "code",
      "metadata": {
        "id": "kSOxXQdClauL",
        "colab_type": "code",
        "outputId": "798bbc64-97ba-4943-e451-a6cc6e79afd6",
        "colab": {
          "base_uri": "https://localhost:8080/",
          "height": 34
        }
      },
      "source": [
        "all_reviews = [('food', review) for review in food_reviews]\n",
        "all_reviews += [('music', review) for review in music_reviews]\n",
        "all_reviews += [('movies', review) for review in movies_reviews]\n",
        "all_reviews += [('instruments', review) for review in instruments_reviews]\n",
        "all_reviews += [('toys', review) for review in toys_reviews]\n",
        "all_reviews += [('clothing', review) for review in clothing_reviews]\n",
        "all_reviews += [('sports', review) for review in sports_reviews]\n",
        "all_reviews += [('books', review) for review in books_reviews]\n",
        "\n",
        "len(all_reviews)"
      ],
      "execution_count": 0,
      "outputs": [
        {
          "output_type": "execute_result",
          "data": {
            "text/plain": [
              "80000"
            ]
          },
          "metadata": {
            "tags": []
          },
          "execution_count": 24
        }
      ]
    },
    {
      "cell_type": "markdown",
      "metadata": {
        "id": "dUA2rMMYceRB",
        "colab_type": "text"
      },
      "source": [
        "Shuffle the dataset to randomize the order of the labels. "
      ]
    },
    {
      "cell_type": "code",
      "metadata": {
        "id": "94MKjDkKsK7w",
        "colab_type": "code",
        "colab": {}
      },
      "source": [
        "shuffle(all_reviews)"
      ],
      "execution_count": 0,
      "outputs": []
    },
    {
      "cell_type": "markdown",
      "metadata": {
        "id": "MQkI9RO2cmNf",
        "colab_type": "text"
      },
      "source": [
        "Write the dataset to a file."
      ]
    },
    {
      "cell_type": "code",
      "metadata": {
        "id": "53p3kG04lkIA",
        "colab_type": "code",
        "colab": {}
      },
      "source": [
        "def write_dataset(reviews, combined_file):\n",
        "    with open(combined_file, 'w') as f:\n",
        "        for label, review in reviews:\n",
        "            line = f\"{label}\\t{review}\\n\"\n",
        "            f.write(line)"
      ],
      "execution_count": 0,
      "outputs": []
    },
    {
      "cell_type": "code",
      "metadata": {
        "id": "Ig5dvINTWnEf",
        "colab_type": "code",
        "colab": {}
      },
      "source": [
        "write_dataset(all_reviews, 'reviews_8_categories.txt')"
      ],
      "execution_count": 0,
      "outputs": []
    }
  ]
}